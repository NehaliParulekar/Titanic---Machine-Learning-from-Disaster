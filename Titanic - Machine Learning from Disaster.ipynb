{
 "cells": [
  {
   "cell_type": "markdown",
   "id": "e8860e3a",
   "metadata": {},
   "source": [
    "# Team Members:  \n",
    "- Vrushali Koli\n",
    "- Bryan Patrick Cullano \n",
    "- Nehali Parulekar"
   ]
  },
  {
   "cell_type": "code",
   "execution_count": 1,
   "id": "ca0c6e05",
   "metadata": {},
   "outputs": [],
   "source": [
    "import pandas as pd\n",
    "import numpy as np\n",
    "import matplotlib.pyplot as plt\n",
    "import seaborn as sns\n",
    "plt.style.use('ggplot')"
   ]
  },
  {
   "cell_type": "markdown",
   "id": "97f88cc3",
   "metadata": {},
   "source": [
    "## Data Exploration"
   ]
  },
  {
   "cell_type": "code",
   "execution_count": 2,
   "id": "92695810",
   "metadata": {},
   "outputs": [],
   "source": [
    "train = pd.read_csv('train.csv')"
   ]
  },
  {
   "cell_type": "code",
   "execution_count": 3,
   "id": "637029a6",
   "metadata": {},
   "outputs": [
    {
     "data": {
      "text/html": [
       "<div>\n",
       "<style scoped>\n",
       "    .dataframe tbody tr th:only-of-type {\n",
       "        vertical-align: middle;\n",
       "    }\n",
       "\n",
       "    .dataframe tbody tr th {\n",
       "        vertical-align: top;\n",
       "    }\n",
       "\n",
       "    .dataframe thead th {\n",
       "        text-align: right;\n",
       "    }\n",
       "</style>\n",
       "<table border=\"1\" class=\"dataframe\">\n",
       "  <thead>\n",
       "    <tr style=\"text-align: right;\">\n",
       "      <th></th>\n",
       "      <th>PassengerId</th>\n",
       "      <th>Survived</th>\n",
       "      <th>Pclass</th>\n",
       "      <th>Name</th>\n",
       "      <th>Sex</th>\n",
       "      <th>Age</th>\n",
       "      <th>SibSp</th>\n",
       "      <th>Parch</th>\n",
       "      <th>Ticket</th>\n",
       "      <th>Fare</th>\n",
       "      <th>Cabin</th>\n",
       "      <th>Embarked</th>\n",
       "    </tr>\n",
       "  </thead>\n",
       "  <tbody>\n",
       "    <tr>\n",
       "      <th>0</th>\n",
       "      <td>1</td>\n",
       "      <td>0</td>\n",
       "      <td>3</td>\n",
       "      <td>Braund, Mr. Owen Harris</td>\n",
       "      <td>male</td>\n",
       "      <td>22.0</td>\n",
       "      <td>1</td>\n",
       "      <td>0</td>\n",
       "      <td>A/5 21171</td>\n",
       "      <td>7.2500</td>\n",
       "      <td>NaN</td>\n",
       "      <td>S</td>\n",
       "    </tr>\n",
       "    <tr>\n",
       "      <th>1</th>\n",
       "      <td>2</td>\n",
       "      <td>1</td>\n",
       "      <td>1</td>\n",
       "      <td>Cumings, Mrs. John Bradley (Florence Briggs Th...</td>\n",
       "      <td>female</td>\n",
       "      <td>38.0</td>\n",
       "      <td>1</td>\n",
       "      <td>0</td>\n",
       "      <td>PC 17599</td>\n",
       "      <td>71.2833</td>\n",
       "      <td>C85</td>\n",
       "      <td>C</td>\n",
       "    </tr>\n",
       "    <tr>\n",
       "      <th>2</th>\n",
       "      <td>3</td>\n",
       "      <td>1</td>\n",
       "      <td>3</td>\n",
       "      <td>Heikkinen, Miss. Laina</td>\n",
       "      <td>female</td>\n",
       "      <td>26.0</td>\n",
       "      <td>0</td>\n",
       "      <td>0</td>\n",
       "      <td>STON/O2. 3101282</td>\n",
       "      <td>7.9250</td>\n",
       "      <td>NaN</td>\n",
       "      <td>S</td>\n",
       "    </tr>\n",
       "    <tr>\n",
       "      <th>3</th>\n",
       "      <td>4</td>\n",
       "      <td>1</td>\n",
       "      <td>1</td>\n",
       "      <td>Futrelle, Mrs. Jacques Heath (Lily May Peel)</td>\n",
       "      <td>female</td>\n",
       "      <td>35.0</td>\n",
       "      <td>1</td>\n",
       "      <td>0</td>\n",
       "      <td>113803</td>\n",
       "      <td>53.1000</td>\n",
       "      <td>C123</td>\n",
       "      <td>S</td>\n",
       "    </tr>\n",
       "    <tr>\n",
       "      <th>4</th>\n",
       "      <td>5</td>\n",
       "      <td>0</td>\n",
       "      <td>3</td>\n",
       "      <td>Allen, Mr. William Henry</td>\n",
       "      <td>male</td>\n",
       "      <td>35.0</td>\n",
       "      <td>0</td>\n",
       "      <td>0</td>\n",
       "      <td>373450</td>\n",
       "      <td>8.0500</td>\n",
       "      <td>NaN</td>\n",
       "      <td>S</td>\n",
       "    </tr>\n",
       "  </tbody>\n",
       "</table>\n",
       "</div>"
      ],
      "text/plain": [
       "   PassengerId  Survived  Pclass  \\\n",
       "0            1         0       3   \n",
       "1            2         1       1   \n",
       "2            3         1       3   \n",
       "3            4         1       1   \n",
       "4            5         0       3   \n",
       "\n",
       "                                                Name     Sex   Age  SibSp  \\\n",
       "0                            Braund, Mr. Owen Harris    male  22.0      1   \n",
       "1  Cumings, Mrs. John Bradley (Florence Briggs Th...  female  38.0      1   \n",
       "2                             Heikkinen, Miss. Laina  female  26.0      0   \n",
       "3       Futrelle, Mrs. Jacques Heath (Lily May Peel)  female  35.0      1   \n",
       "4                           Allen, Mr. William Henry    male  35.0      0   \n",
       "\n",
       "   Parch            Ticket     Fare Cabin Embarked  \n",
       "0      0         A/5 21171   7.2500   NaN        S  \n",
       "1      0          PC 17599  71.2833   C85        C  \n",
       "2      0  STON/O2. 3101282   7.9250   NaN        S  \n",
       "3      0            113803  53.1000  C123        S  \n",
       "4      0            373450   8.0500   NaN        S  "
      ]
     },
     "execution_count": 3,
     "metadata": {},
     "output_type": "execute_result"
    }
   ],
   "source": [
    "train.head()"
   ]
  },
  {
   "cell_type": "code",
   "execution_count": 4,
   "id": "cf7a5712",
   "metadata": {},
   "outputs": [
    {
     "data": {
      "text/html": [
       "<div>\n",
       "<style scoped>\n",
       "    .dataframe tbody tr th:only-of-type {\n",
       "        vertical-align: middle;\n",
       "    }\n",
       "\n",
       "    .dataframe tbody tr th {\n",
       "        vertical-align: top;\n",
       "    }\n",
       "\n",
       "    .dataframe thead th {\n",
       "        text-align: right;\n",
       "    }\n",
       "</style>\n",
       "<table border=\"1\" class=\"dataframe\">\n",
       "  <thead>\n",
       "    <tr style=\"text-align: right;\">\n",
       "      <th></th>\n",
       "      <th>count</th>\n",
       "      <th>mean</th>\n",
       "      <th>std</th>\n",
       "      <th>min</th>\n",
       "      <th>25%</th>\n",
       "      <th>50%</th>\n",
       "      <th>75%</th>\n",
       "      <th>max</th>\n",
       "    </tr>\n",
       "  </thead>\n",
       "  <tbody>\n",
       "    <tr>\n",
       "      <th>PassengerId</th>\n",
       "      <td>891.0</td>\n",
       "      <td>446.000000</td>\n",
       "      <td>257.353842</td>\n",
       "      <td>1.00</td>\n",
       "      <td>223.5000</td>\n",
       "      <td>446.0000</td>\n",
       "      <td>668.5</td>\n",
       "      <td>891.0000</td>\n",
       "    </tr>\n",
       "    <tr>\n",
       "      <th>Survived</th>\n",
       "      <td>891.0</td>\n",
       "      <td>0.383838</td>\n",
       "      <td>0.486592</td>\n",
       "      <td>0.00</td>\n",
       "      <td>0.0000</td>\n",
       "      <td>0.0000</td>\n",
       "      <td>1.0</td>\n",
       "      <td>1.0000</td>\n",
       "    </tr>\n",
       "    <tr>\n",
       "      <th>Pclass</th>\n",
       "      <td>891.0</td>\n",
       "      <td>2.308642</td>\n",
       "      <td>0.836071</td>\n",
       "      <td>1.00</td>\n",
       "      <td>2.0000</td>\n",
       "      <td>3.0000</td>\n",
       "      <td>3.0</td>\n",
       "      <td>3.0000</td>\n",
       "    </tr>\n",
       "    <tr>\n",
       "      <th>Age</th>\n",
       "      <td>714.0</td>\n",
       "      <td>29.699118</td>\n",
       "      <td>14.526497</td>\n",
       "      <td>0.42</td>\n",
       "      <td>20.1250</td>\n",
       "      <td>28.0000</td>\n",
       "      <td>38.0</td>\n",
       "      <td>80.0000</td>\n",
       "    </tr>\n",
       "    <tr>\n",
       "      <th>SibSp</th>\n",
       "      <td>891.0</td>\n",
       "      <td>0.523008</td>\n",
       "      <td>1.102743</td>\n",
       "      <td>0.00</td>\n",
       "      <td>0.0000</td>\n",
       "      <td>0.0000</td>\n",
       "      <td>1.0</td>\n",
       "      <td>8.0000</td>\n",
       "    </tr>\n",
       "    <tr>\n",
       "      <th>Parch</th>\n",
       "      <td>891.0</td>\n",
       "      <td>0.381594</td>\n",
       "      <td>0.806057</td>\n",
       "      <td>0.00</td>\n",
       "      <td>0.0000</td>\n",
       "      <td>0.0000</td>\n",
       "      <td>0.0</td>\n",
       "      <td>6.0000</td>\n",
       "    </tr>\n",
       "    <tr>\n",
       "      <th>Fare</th>\n",
       "      <td>891.0</td>\n",
       "      <td>32.204208</td>\n",
       "      <td>49.693429</td>\n",
       "      <td>0.00</td>\n",
       "      <td>7.9104</td>\n",
       "      <td>14.4542</td>\n",
       "      <td>31.0</td>\n",
       "      <td>512.3292</td>\n",
       "    </tr>\n",
       "  </tbody>\n",
       "</table>\n",
       "</div>"
      ],
      "text/plain": [
       "             count        mean         std   min       25%       50%    75%  \\\n",
       "PassengerId  891.0  446.000000  257.353842  1.00  223.5000  446.0000  668.5   \n",
       "Survived     891.0    0.383838    0.486592  0.00    0.0000    0.0000    1.0   \n",
       "Pclass       891.0    2.308642    0.836071  1.00    2.0000    3.0000    3.0   \n",
       "Age          714.0   29.699118   14.526497  0.42   20.1250   28.0000   38.0   \n",
       "SibSp        891.0    0.523008    1.102743  0.00    0.0000    0.0000    1.0   \n",
       "Parch        891.0    0.381594    0.806057  0.00    0.0000    0.0000    0.0   \n",
       "Fare         891.0   32.204208   49.693429  0.00    7.9104   14.4542   31.0   \n",
       "\n",
       "                  max  \n",
       "PassengerId  891.0000  \n",
       "Survived       1.0000  \n",
       "Pclass         3.0000  \n",
       "Age           80.0000  \n",
       "SibSp          8.0000  \n",
       "Parch          6.0000  \n",
       "Fare         512.3292  "
      ]
     },
     "execution_count": 4,
     "metadata": {},
     "output_type": "execute_result"
    }
   ],
   "source": [
    "train.describe().T"
   ]
  },
  {
   "cell_type": "markdown",
   "id": "17b09dcb",
   "metadata": {},
   "source": [
    "#### Let's see how many columns have null values"
   ]
  },
  {
   "cell_type": "code",
   "execution_count": 5,
   "id": "356a3f07",
   "metadata": {},
   "outputs": [
    {
     "data": {
      "text/plain": [
       "Cabin       77.104377\n",
       "Age         19.865320\n",
       "Embarked     0.224467\n",
       "dtype: float64"
      ]
     },
     "execution_count": 5,
     "metadata": {},
     "output_type": "execute_result"
    }
   ],
   "source": [
    "train_na = (train.isnull().sum() / len(train)) * 100\n",
    "train_na.sort_values(ascending=False)[:3]"
   ]
  },
  {
   "cell_type": "code",
   "execution_count": 6,
   "id": "b35ccdfa",
   "metadata": {},
   "outputs": [
    {
     "data": {
      "text/plain": [
       "<AxesSubplot:>"
      ]
     },
     "execution_count": 6,
     "metadata": {},
     "output_type": "execute_result"
    },
    {
     "data": {
      "image/png": "[encoded data removed]",
      "text/plain": [
       "<Figure size 432x432 with 2 Axes>"
      ]
     },
     "metadata": {},
     "output_type": "display_data"
    }
   ],
   "source": [
    "plt.figure(figsize=(6, 6))\n",
    "sns.heatmap(abs(train.drop('PassengerId', axis=1).corr()), annot=True, cmap='YlGnBu')"
   ]
  },
  {
   "cell_type": "markdown",
   "id": "2879d9a0",
   "metadata": {},
   "source": [
    "## Check Feature Distribution"
   ]
  },
  {
   "cell_type": "code",
   "execution_count": 7,
   "id": "bf4ab5d3",
   "metadata": {},
   "outputs": [
    {
     "data": {
      "image/png": "[encoded data removed]",
      "text/plain": [
       "<Figure size 5040x5040 with 10 Axes>"
      ]
     },
     "metadata": {},
     "output_type": "display_data"
    }
   ],
   "source": [
    "columns = ['Survived', 'Pclass', 'Sex', 'Age', 'SibSp',\n",
    "       'Parch', 'Ticket', 'Fare', 'Cabin', 'Embarked']\n",
    "f, ax = plt.subplots(5, 2, figsize=(70, 70))\n",
    "for i, c in enumerate(columns):\n",
    "    g = sns.barplot(data=pd.DataFrame(train[c].value_counts()).reset_index(), x='index', y=c, ax=ax[i//2, i%2])\n",
    "    g.set(xticks=[])\n",
    "    g.set(title=c)"
   ]
  },
  {
   "cell_type": "markdown",
   "id": "9bfb0f31",
   "metadata": {},
   "source": [
    "## Feature Engineering  "
   ]
  },
  {
   "cell_type": "markdown",
   "id": "da3a296f",
   "metadata": {},
   "source": [
    "### Pclass  \n",
    "We'll leave Pclass as is"
   ]
  },
  {
   "cell_type": "markdown",
   "id": "1908d1d3",
   "metadata": {},
   "source": [
    "### Name\n",
    "We'll replace all the names with titles.  \n",
    "Referencing: https://triangleinequality.wordpress.com/2013/09/08/basic-feature-engineering-with-the-titanic-data/"
   ]
  },
  {
   "cell_type": "code",
   "execution_count": 8,
   "id": "d4777bb7",
   "metadata": {},
   "outputs": [],
   "source": [
    "import string\n",
    "def get_title(x):\n",
    "    name_parts = x.split(',')\n",
    "    title = name_parts[1].split('.')[0].strip()\n",
    "    return title"
   ]
  },
  {
   "cell_type": "code",
   "execution_count": 9,
   "id": "7a7b7d8e",
   "metadata": {},
   "outputs": [],
   "source": [
    "train['Title'] = train['Name'].map(lambda x: get_title(x))"
   ]
  },
  {
   "cell_type": "code",
   "execution_count": 10,
   "id": "4b1ff5ea",
   "metadata": {},
   "outputs": [],
   "source": [
    "train.loc[train['Title'] == 'Don', 'Title'] = 'Mr'\n",
    "train.loc[train['Title'] == 'Major', 'Title'] = 'Mr'\n",
    "train.loc[train['Title'] == 'Capt', 'Title'] = 'Mr'\n",
    "train.loc[train['Title'] == 'Jonkheer', 'Title'] = 'Mr'\n",
    "train.loc[train['Title'] == 'Rev', 'Title'] = 'Mr'\n",
    "train.loc[train['Title'] == 'Col', 'Title'] = 'Mr'\n",
    "train.loc[train['Title'] == 'Countess', 'Title'] = 'Mrs'\n",
    "train.loc[train['Title'] == 'Mme', 'Title'] = 'Mrs'\n",
    "train.loc[train['Title'] == 'Mlle', 'Title'] = 'Miss'\n",
    "train.loc[train['Title'] == 'Ms', 'Title'] = 'Miss'\n",
    "train.loc[(train['Title'] == 'Dr') & (train['Sex'] == 'male'), 'Title'] = 'Mr'\n",
    "train.loc[(train['Title'] == 'Dr') & (train['Sex'] == 'female'), 'Title'] = 'Mrs'\n",
    "train.loc[train['Title'] == 'the Countess', 'Title'] = 'Mrs'\n",
    "train.loc[train['Title'] == 'Lady', 'Title'] = 'Miss'\n",
    "train.loc[train['Title'] == 'Sir', 'Title'] = 'Mr'"
   ]
  },
  {
   "cell_type": "code",
   "execution_count": 11,
   "id": "06885831",
   "metadata": {},
   "outputs": [
    {
     "data": {
      "text/plain": [
       "Mr        537\n",
       "Miss      186\n",
       "Mrs       128\n",
       "Master     40\n",
       "Name: Title, dtype: int64"
      ]
     },
     "execution_count": 11,
     "metadata": {},
     "output_type": "execute_result"
    }
   ],
   "source": [
    "train['Title'].value_counts()"
   ]
  },
  {
   "cell_type": "markdown",
   "id": "dc259392",
   "metadata": {},
   "source": [
    "### Sex  \n",
    "Can be left as a categorical feature"
   ]
  },
  {
   "cell_type": "markdown",
   "id": "24c96607",
   "metadata": {},
   "source": [
    "### Age  \n",
    "First, lets fill the nan values.   \n",
    "Then, we'll bin ages into 5-year categorical bins"
   ]
  },
  {
   "cell_type": "code",
   "execution_count": 12,
   "id": "8f099f0e",
   "metadata": {},
   "outputs": [
    {
     "data": {
      "image/png": "[encoded data removed]",
      "text/plain": [
       "<Figure size 432x288 with 1 Axes>"
      ]
     },
     "metadata": {},
     "output_type": "display_data"
    }
   ],
   "source": [
    "ax = sns.boxplot(x=train['Age'])"
   ]
  },
  {
   "cell_type": "code",
   "execution_count": 13,
   "id": "2fec8003",
   "metadata": {},
   "outputs": [],
   "source": [
    "train['Age'] = train['Age'].fillna(train['Age'].median())"
   ]
  },
  {
   "cell_type": "code",
   "execution_count": 14,
   "id": "a5273f7e",
   "metadata": {},
   "outputs": [],
   "source": [
    "train.loc[train.Age <= 1.0, 'age_bins'] = '1s'\n",
    "train.loc[(train['Age'] > 1.0) & (train['Age'] <= 5.0), 'age_bins'] = '5s'\n",
    "train.loc[(train['Age'] > 5.0) & (train['Age'] <= 10.0), 'age_bins'] = '10s'\n",
    "train.loc[(train['Age'] > 10.0) & (train['Age'] <= 15.0), 'age_bins'] = '15s'\n",
    "train.loc[(train['Age'] > 15.0) & (train['Age'] <= 20.0), 'age_bins'] = '20s'\n",
    "train.loc[(train['Age'] > 20.0) & (train['Age'] <= 25.0), 'age_bins'] = '25s'\n",
    "train.loc[(train['Age'] > 25.0) & (train['Age'] <= 30.0), 'age_bins'] = '30s'\n",
    "train.loc[(train['Age'] > 30.0) & (train['Age'] <= 35.0), 'age_bins'] = '35s'\n",
    "train.loc[(train['Age'] > 35.0) & (train['Age'] <= 40.0), 'age_bins'] = '40s'\n",
    "train.loc[(train['Age'] > 40.0) & (train['Age'] <= 45.0), 'age_bins'] = '45s'\n",
    "train.loc[(train['Age'] > 45.0) & (train['Age'] <= 50.0), 'age_bins'] = '50s'\n",
    "train.loc[(train['Age'] > 50.0) & (train['Age'] <= 55.0), 'age_bins'] = '55s'\n",
    "train.loc[(train['Age'] > 55.0), 'age_bins'] = '60s'"
   ]
  },
  {
   "cell_type": "code",
   "execution_count": 15,
   "id": "fd8bfac4",
   "metadata": {},
   "outputs": [
    {
     "data": {
      "text/plain": [
       "30s    285\n",
       "25s    122\n",
       "20s     96\n",
       "35s     88\n",
       "40s     67\n",
       "45s     47\n",
       "60s     40\n",
       "50s     39\n",
       "5s      30\n",
       "55s     24\n",
       "10s     20\n",
       "15s     19\n",
       "1s      14\n",
       "Name: age_bins, dtype: int64"
      ]
     },
     "execution_count": 15,
     "metadata": {},
     "output_type": "execute_result"
    }
   ],
   "source": [
    "train['age_bins'].value_counts()"
   ]
  },
  {
   "cell_type": "markdown",
   "id": "9d7f9241",
   "metadata": {},
   "source": [
    "### SibSp & Parch   \n",
    "We'll create two new columns: relative_size and travelled_alone"
   ]
  },
  {
   "cell_type": "code",
   "execution_count": 16,
   "id": "8e1ffe63",
   "metadata": {},
   "outputs": [],
   "source": [
    "train['relative_size'] = train['SibSp'] + train['Parch']\n",
    "train.loc[train['relative_size'] > 0, 'travelled_alone'] = 0 #No\n",
    "train.loc[train['relative_size'] == 0, 'travelled_alone'] = 1 #Yes"
   ]
  },
  {
   "cell_type": "code",
   "execution_count": 17,
   "id": "47223e6b",
   "metadata": {},
   "outputs": [
    {
     "data": {
      "text/plain": [
       "0     537\n",
       "1     161\n",
       "2     102\n",
       "3      29\n",
       "5      22\n",
       "4      15\n",
       "6      12\n",
       "10      7\n",
       "7       6\n",
       "Name: relative_size, dtype: int64"
      ]
     },
     "execution_count": 17,
     "metadata": {},
     "output_type": "execute_result"
    }
   ],
   "source": [
    "train['relative_size'].value_counts()"
   ]
  },
  {
   "cell_type": "markdown",
   "id": "01e3ff2b",
   "metadata": {},
   "source": [
    "### Cabin  \n",
    "Since Cabin had the most nan-values, we'll fill them with 0 and everything else will be 1 is not nan."
   ]
  },
  {
   "cell_type": "code",
   "execution_count": 18,
   "id": "4c55a0b6",
   "metadata": {},
   "outputs": [
    {
     "name": "stderr",
     "output_type": "stream",
     "text": [
      "C:\\Users\\Nehali\\anaconda3\\lib\\site-packages\\pandas\\core\\indexing.py:1637: SettingWithCopyWarning: \n",
      "A value is trying to be set on a copy of a slice from a DataFrame\n",
      "\n",
      "See the caveats in the documentation: https://pandas.pydata.org/pandas-docs/stable/user_guide/indexing.html#returning-a-view-versus-a-copy\n",
      "  self._setitem_single_block(indexer, value, name)\n"
     ]
    }
   ],
   "source": [
    "train['Cabin'].loc[~train['Cabin'].isnull()] = 1  \n",
    "train['Cabin'].loc[train['Cabin'].isnull()] = 0 "
   ]
  },
  {
   "cell_type": "markdown",
   "id": "54aafba6",
   "metadata": {},
   "source": [
    "### Embarked\n",
    "We'll fill the nan values with the median value of S"
   ]
  },
  {
   "cell_type": "code",
   "execution_count": 19,
   "id": "3277d519",
   "metadata": {},
   "outputs": [],
   "source": [
    "train['Embarked'] = train['Embarked'].fillna('S')"
   ]
  },
  {
   "cell_type": "markdown",
   "id": "1bae0978",
   "metadata": {},
   "source": [
    "### Fare"
   ]
  },
  {
   "cell_type": "code",
   "execution_count": 20,
   "id": "ed702464",
   "metadata": {},
   "outputs": [
    {
     "data": {
      "image/png": "[encoded data removed]",
      "text/plain": [
       "<Figure size 432x288 with 1 Axes>"
      ]
     },
     "metadata": {},
     "output_type": "display_data"
    }
   ],
   "source": [
    "ax = sns.histplot(x=train['Fare'])\n",
    "# plt.xlim(0, 100)"
   ]
  },
  {
   "cell_type": "code",
   "execution_count": 21,
   "id": "9690720c",
   "metadata": {},
   "outputs": [
    {
     "name": "stdout",
     "output_type": "stream",
     "text": [
      "7.9104 31.0 23.0896\n"
     ]
    }
   ],
   "source": [
    "Q1 = train['Fare'].quantile(0.25)\n",
    "Q3 = train['Fare'].quantile(0.75)\n",
    "IQR = Q3 - Q1\n",
    "print(Q1, Q3, IQR)"
   ]
  },
  {
   "cell_type": "code",
   "execution_count": 22,
   "id": "c530b0c3",
   "metadata": {},
   "outputs": [
    {
     "name": "stdout",
     "output_type": "stream",
     "text": [
      "-26.724 65.6344\n"
     ]
    }
   ],
   "source": [
    "lower_lim = Q1 - 1.5 * IQR\n",
    "upper_lim = Q3 + 1.5 * IQR\n",
    "print(lower_lim, upper_lim)"
   ]
  },
  {
   "cell_type": "markdown",
   "id": "288f6d92",
   "metadata": {},
   "source": [
    "It looks like the Fare feature has several outliers since we see in values > 100 in the bar chart.   \n",
    "Let's drop the rows with these outliers."
   ]
  },
  {
   "cell_type": "code",
   "execution_count": 23,
   "id": "df89433e",
   "metadata": {},
   "outputs": [
    {
     "data": {
      "text/plain": [
       "116"
      ]
     },
     "execution_count": 23,
     "metadata": {},
     "output_type": "execute_result"
    }
   ],
   "source": [
    "len(train.loc[(train['Fare'] > upper_lim)])"
   ]
  },
  {
   "cell_type": "code",
   "execution_count": 24,
   "id": "6e6d4598",
   "metadata": {},
   "outputs": [],
   "source": [
    "train = train.drop(train[(train['Fare'] > upper_lim)].index)"
   ]
  },
  {
   "cell_type": "code",
   "execution_count": 25,
   "id": "04cbc5ef",
   "metadata": {},
   "outputs": [
    {
     "data": {
      "text/plain": [
       "(775, 16)"
      ]
     },
     "execution_count": 25,
     "metadata": {},
     "output_type": "execute_result"
    }
   ],
   "source": [
    "train.shape"
   ]
  },
  {
   "cell_type": "markdown",
   "id": "951b6d2b",
   "metadata": {},
   "source": [
    "## Drop Columns\n",
    "We don't need this column, so we can safely drop it."
   ]
  },
  {
   "cell_type": "code",
   "execution_count": 26,
   "id": "c0c371a9",
   "metadata": {},
   "outputs": [],
   "source": [
    "train = train.drop(['PassengerId', 'Ticket', 'Name', 'Age'], axis=1)"
   ]
  },
  {
   "cell_type": "code",
   "execution_count": 27,
   "id": "6c62e78b",
   "metadata": {},
   "outputs": [
    {
     "data": {
      "text/html": [
       "<div>\n",
       "<style scoped>\n",
       "    .dataframe tbody tr th:only-of-type {\n",
       "        vertical-align: middle;\n",
       "    }\n",
       "\n",
       "    .dataframe tbody tr th {\n",
       "        vertical-align: top;\n",
       "    }\n",
       "\n",
       "    .dataframe thead th {\n",
       "        text-align: right;\n",
       "    }\n",
       "</style>\n",
       "<table border=\"1\" class=\"dataframe\">\n",
       "  <thead>\n",
       "    <tr style=\"text-align: right;\">\n",
       "      <th></th>\n",
       "      <th>Survived</th>\n",
       "      <th>Pclass</th>\n",
       "      <th>Sex</th>\n",
       "      <th>SibSp</th>\n",
       "      <th>Parch</th>\n",
       "      <th>Fare</th>\n",
       "      <th>Cabin</th>\n",
       "      <th>Embarked</th>\n",
       "      <th>Title</th>\n",
       "      <th>age_bins</th>\n",
       "      <th>relative_size</th>\n",
       "      <th>travelled_alone</th>\n",
       "    </tr>\n",
       "  </thead>\n",
       "  <tbody>\n",
       "    <tr>\n",
       "      <th>0</th>\n",
       "      <td>0</td>\n",
       "      <td>3</td>\n",
       "      <td>male</td>\n",
       "      <td>1</td>\n",
       "      <td>0</td>\n",
       "      <td>7.2500</td>\n",
       "      <td>0</td>\n",
       "      <td>S</td>\n",
       "      <td>Mr</td>\n",
       "      <td>25s</td>\n",
       "      <td>1</td>\n",
       "      <td>0.0</td>\n",
       "    </tr>\n",
       "    <tr>\n",
       "      <th>2</th>\n",
       "      <td>1</td>\n",
       "      <td>3</td>\n",
       "      <td>female</td>\n",
       "      <td>0</td>\n",
       "      <td>0</td>\n",
       "      <td>7.9250</td>\n",
       "      <td>0</td>\n",
       "      <td>S</td>\n",
       "      <td>Miss</td>\n",
       "      <td>30s</td>\n",
       "      <td>0</td>\n",
       "      <td>1.0</td>\n",
       "    </tr>\n",
       "    <tr>\n",
       "      <th>3</th>\n",
       "      <td>1</td>\n",
       "      <td>1</td>\n",
       "      <td>female</td>\n",
       "      <td>1</td>\n",
       "      <td>0</td>\n",
       "      <td>53.1000</td>\n",
       "      <td>1</td>\n",
       "      <td>S</td>\n",
       "      <td>Mrs</td>\n",
       "      <td>35s</td>\n",
       "      <td>1</td>\n",
       "      <td>0.0</td>\n",
       "    </tr>\n",
       "    <tr>\n",
       "      <th>4</th>\n",
       "      <td>0</td>\n",
       "      <td>3</td>\n",
       "      <td>male</td>\n",
       "      <td>0</td>\n",
       "      <td>0</td>\n",
       "      <td>8.0500</td>\n",
       "      <td>0</td>\n",
       "      <td>S</td>\n",
       "      <td>Mr</td>\n",
       "      <td>35s</td>\n",
       "      <td>0</td>\n",
       "      <td>1.0</td>\n",
       "    </tr>\n",
       "    <tr>\n",
       "      <th>5</th>\n",
       "      <td>0</td>\n",
       "      <td>3</td>\n",
       "      <td>male</td>\n",
       "      <td>0</td>\n",
       "      <td>0</td>\n",
       "      <td>8.4583</td>\n",
       "      <td>0</td>\n",
       "      <td>Q</td>\n",
       "      <td>Mr</td>\n",
       "      <td>30s</td>\n",
       "      <td>0</td>\n",
       "      <td>1.0</td>\n",
       "    </tr>\n",
       "  </tbody>\n",
       "</table>\n",
       "</div>"
      ],
      "text/plain": [
       "   Survived  Pclass     Sex  SibSp  Parch     Fare Cabin Embarked Title  \\\n",
       "0         0       3    male      1      0   7.2500     0        S    Mr   \n",
       "2         1       3  female      0      0   7.9250     0        S  Miss   \n",
       "3         1       1  female      1      0  53.1000     1        S   Mrs   \n",
       "4         0       3    male      0      0   8.0500     0        S    Mr   \n",
       "5         0       3    male      0      0   8.4583     0        Q    Mr   \n",
       "\n",
       "  age_bins  relative_size  travelled_alone  \n",
       "0      25s              1              0.0  \n",
       "2      30s              0              1.0  \n",
       "3      35s              1              0.0  \n",
       "4      35s              0              1.0  \n",
       "5      30s              0              1.0  "
      ]
     },
     "execution_count": 27,
     "metadata": {},
     "output_type": "execute_result"
    }
   ],
   "source": [
    "train.head()"
   ]
  },
  {
   "cell_type": "code",
   "execution_count": 28,
   "id": "eaeb5290",
   "metadata": {},
   "outputs": [],
   "source": [
    "train['travelled_alone'] = train['travelled_alone'].astype(int)"
   ]
  },
  {
   "cell_type": "code",
   "execution_count": 29,
   "id": "bd3a94c2",
   "metadata": {},
   "outputs": [],
   "source": [
    "train.reset_index(drop=True, inplace=True)"
   ]
  },
  {
   "cell_type": "code",
   "execution_count": 30,
   "id": "228548f3",
   "metadata": {},
   "outputs": [
    {
     "data": {
      "text/html": [
       "<div>\n",
       "<style scoped>\n",
       "    .dataframe tbody tr th:only-of-type {\n",
       "        vertical-align: middle;\n",
       "    }\n",
       "\n",
       "    .dataframe tbody tr th {\n",
       "        vertical-align: top;\n",
       "    }\n",
       "\n",
       "    .dataframe thead th {\n",
       "        text-align: right;\n",
       "    }\n",
       "</style>\n",
       "<table border=\"1\" class=\"dataframe\">\n",
       "  <thead>\n",
       "    <tr style=\"text-align: right;\">\n",
       "      <th></th>\n",
       "      <th>Survived</th>\n",
       "      <th>Pclass</th>\n",
       "      <th>Sex</th>\n",
       "      <th>SibSp</th>\n",
       "      <th>Parch</th>\n",
       "      <th>Fare</th>\n",
       "      <th>Cabin</th>\n",
       "      <th>Embarked</th>\n",
       "      <th>Title</th>\n",
       "      <th>age_bins</th>\n",
       "      <th>relative_size</th>\n",
       "      <th>travelled_alone</th>\n",
       "    </tr>\n",
       "  </thead>\n",
       "  <tbody>\n",
       "    <tr>\n",
       "      <th>0</th>\n",
       "      <td>0</td>\n",
       "      <td>3</td>\n",
       "      <td>male</td>\n",
       "      <td>1</td>\n",
       "      <td>0</td>\n",
       "      <td>7.2500</td>\n",
       "      <td>0</td>\n",
       "      <td>S</td>\n",
       "      <td>Mr</td>\n",
       "      <td>25s</td>\n",
       "      <td>1</td>\n",
       "      <td>0</td>\n",
       "    </tr>\n",
       "    <tr>\n",
       "      <th>1</th>\n",
       "      <td>1</td>\n",
       "      <td>3</td>\n",
       "      <td>female</td>\n",
       "      <td>0</td>\n",
       "      <td>0</td>\n",
       "      <td>7.9250</td>\n",
       "      <td>0</td>\n",
       "      <td>S</td>\n",
       "      <td>Miss</td>\n",
       "      <td>30s</td>\n",
       "      <td>0</td>\n",
       "      <td>1</td>\n",
       "    </tr>\n",
       "    <tr>\n",
       "      <th>2</th>\n",
       "      <td>1</td>\n",
       "      <td>1</td>\n",
       "      <td>female</td>\n",
       "      <td>1</td>\n",
       "      <td>0</td>\n",
       "      <td>53.1000</td>\n",
       "      <td>1</td>\n",
       "      <td>S</td>\n",
       "      <td>Mrs</td>\n",
       "      <td>35s</td>\n",
       "      <td>1</td>\n",
       "      <td>0</td>\n",
       "    </tr>\n",
       "    <tr>\n",
       "      <th>3</th>\n",
       "      <td>0</td>\n",
       "      <td>3</td>\n",
       "      <td>male</td>\n",
       "      <td>0</td>\n",
       "      <td>0</td>\n",
       "      <td>8.0500</td>\n",
       "      <td>0</td>\n",
       "      <td>S</td>\n",
       "      <td>Mr</td>\n",
       "      <td>35s</td>\n",
       "      <td>0</td>\n",
       "      <td>1</td>\n",
       "    </tr>\n",
       "    <tr>\n",
       "      <th>4</th>\n",
       "      <td>0</td>\n",
       "      <td>3</td>\n",
       "      <td>male</td>\n",
       "      <td>0</td>\n",
       "      <td>0</td>\n",
       "      <td>8.4583</td>\n",
       "      <td>0</td>\n",
       "      <td>Q</td>\n",
       "      <td>Mr</td>\n",
       "      <td>30s</td>\n",
       "      <td>0</td>\n",
       "      <td>1</td>\n",
       "    </tr>\n",
       "  </tbody>\n",
       "</table>\n",
       "</div>"
      ],
      "text/plain": [
       "   Survived  Pclass     Sex  SibSp  Parch     Fare Cabin Embarked Title  \\\n",
       "0         0       3    male      1      0   7.2500     0        S    Mr   \n",
       "1         1       3  female      0      0   7.9250     0        S  Miss   \n",
       "2         1       1  female      1      0  53.1000     1        S   Mrs   \n",
       "3         0       3    male      0      0   8.0500     0        S    Mr   \n",
       "4         0       3    male      0      0   8.4583     0        Q    Mr   \n",
       "\n",
       "  age_bins  relative_size  travelled_alone  \n",
       "0      25s              1                0  \n",
       "1      30s              0                1  \n",
       "2      35s              1                0  \n",
       "3      35s              0                1  \n",
       "4      30s              0                1  "
      ]
     },
     "execution_count": 30,
     "metadata": {},
     "output_type": "execute_result"
    }
   ],
   "source": [
    "train.head()"
   ]
  },
  {
   "cell_type": "markdown",
   "id": "7e63851b",
   "metadata": {},
   "source": [
    "## Now, let's do one-hot encodings for our categorical features:"
   ]
  },
  {
   "cell_type": "code",
   "execution_count": 31,
   "id": "6b8d84c0",
   "metadata": {},
   "outputs": [],
   "source": [
    "from sklearn.preprocessing import OneHotEncoder\n",
    "\n",
    "ohe = OneHotEncoder(sparse=False, drop='first')\n",
    "data_obj = ohe.fit_transform(train[train.columns[train.dtypes=='object']])\n",
    "\n",
    "obj_df = pd.DataFrame(data_obj,columns=ohe.get_feature_names(train.columns[train.dtypes=='object']))\n",
    "cat_columns = obj_df.columns\n",
    "\n",
    "train = pd.concat([train[train.columns[train.dtypes!='object']], obj_df], axis=1)"
   ]
  },
  {
   "cell_type": "markdown",
   "id": "de331e24",
   "metadata": {},
   "source": [
    "### Standarize the features"
   ]
  },
  {
   "cell_type": "code",
   "execution_count": 32,
   "id": "392faefb",
   "metadata": {},
   "outputs": [],
   "source": [
    "train = (train-train.min())/(train.max()-train.min())"
   ]
  },
  {
   "cell_type": "markdown",
   "id": "1d0cbdd4",
   "metadata": {},
   "source": [
    "## Check Feature Importance"
   ]
  },
  {
   "cell_type": "code",
   "execution_count": 33,
   "id": "8ca28b99",
   "metadata": {},
   "outputs": [
    {
     "data": {
      "image/png": "[encoded data removed]",
      "text/plain": [
       "<Figure size 432x288 with 1 Axes>"
      ]
     },
     "metadata": {},
     "output_type": "display_data"
    }
   ],
   "source": [
    "from sklearn.ensemble import RandomForestRegressor\n",
    "\n",
    "X = train.drop('Survived', axis=1)\n",
    "y = train['Survived']\n",
    "\n",
    "model = RandomForestRegressor(random_state=1, max_depth=10)\n",
    "model.fit(X,y)\n",
    "\n",
    "features = X.columns\n",
    "importances = model.feature_importances_\n",
    "indices = np.argsort(importances)[-10:]  # top 10 features\n",
    "plt.title('Feature Importances')\n",
    "plt.barh(range(len(indices)), importances[indices], color='b', align='center')\n",
    "plt.yticks(range(len(indices)), [features[i] for i in indices])\n",
    "plt.xlabel('Relative Importance')\n",
    "plt.show()"
   ]
  },
  {
   "cell_type": "markdown",
   "id": "2b1fcd6a",
   "metadata": {},
   "source": [
    "## Features Considered:\n",
    "- Sex\n",
    "- Pclass\n",
    "- Fare\n",
    "- Cabin\n",
    "- age_bins\n",
    "- relative_size\n",
    "- Title"
   ]
  },
  {
   "cell_type": "code",
   "execution_count": 34,
   "id": "ff6ed256",
   "metadata": {},
   "outputs": [
    {
     "data": {
      "text/html": [
       "<div>\n",
       "<style scoped>\n",
       "    .dataframe tbody tr th:only-of-type {\n",
       "        vertical-align: middle;\n",
       "    }\n",
       "\n",
       "    .dataframe tbody tr th {\n",
       "        vertical-align: top;\n",
       "    }\n",
       "\n",
       "    .dataframe thead th {\n",
       "        text-align: right;\n",
       "    }\n",
       "</style>\n",
       "<table border=\"1\" class=\"dataframe\">\n",
       "  <thead>\n",
       "    <tr style=\"text-align: right;\">\n",
       "      <th></th>\n",
       "      <th>Pclass</th>\n",
       "      <th>Fare</th>\n",
       "      <th>relative_size</th>\n",
       "      <th>Sex_male</th>\n",
       "      <th>Cabin_1</th>\n",
       "      <th>age_bins_15s</th>\n",
       "      <th>age_bins_1s</th>\n",
       "      <th>age_bins_20s</th>\n",
       "      <th>age_bins_25s</th>\n",
       "      <th>age_bins_30s</th>\n",
       "      <th>age_bins_35s</th>\n",
       "      <th>age_bins_40s</th>\n",
       "      <th>age_bins_45s</th>\n",
       "      <th>age_bins_50s</th>\n",
       "      <th>age_bins_55s</th>\n",
       "      <th>age_bins_5s</th>\n",
       "      <th>age_bins_60s</th>\n",
       "      <th>Title_Miss</th>\n",
       "      <th>Title_Mr</th>\n",
       "      <th>Title_Mrs</th>\n",
       "    </tr>\n",
       "  </thead>\n",
       "  <tbody>\n",
       "    <tr>\n",
       "      <th>0</th>\n",
       "      <td>1.0</td>\n",
       "      <td>0.111538</td>\n",
       "      <td>0.142857</td>\n",
       "      <td>1.0</td>\n",
       "      <td>0.0</td>\n",
       "      <td>0.0</td>\n",
       "      <td>0.0</td>\n",
       "      <td>0.0</td>\n",
       "      <td>1.0</td>\n",
       "      <td>0.0</td>\n",
       "      <td>0.0</td>\n",
       "      <td>0.0</td>\n",
       "      <td>0.0</td>\n",
       "      <td>0.0</td>\n",
       "      <td>0.0</td>\n",
       "      <td>0.0</td>\n",
       "      <td>0.0</td>\n",
       "      <td>0.0</td>\n",
       "      <td>1.0</td>\n",
       "      <td>0.0</td>\n",
       "    </tr>\n",
       "    <tr>\n",
       "      <th>1</th>\n",
       "      <td>1.0</td>\n",
       "      <td>0.121923</td>\n",
       "      <td>0.000000</td>\n",
       "      <td>0.0</td>\n",
       "      <td>0.0</td>\n",
       "      <td>0.0</td>\n",
       "      <td>0.0</td>\n",
       "      <td>0.0</td>\n",
       "      <td>0.0</td>\n",
       "      <td>1.0</td>\n",
       "      <td>0.0</td>\n",
       "      <td>0.0</td>\n",
       "      <td>0.0</td>\n",
       "      <td>0.0</td>\n",
       "      <td>0.0</td>\n",
       "      <td>0.0</td>\n",
       "      <td>0.0</td>\n",
       "      <td>1.0</td>\n",
       "      <td>0.0</td>\n",
       "      <td>0.0</td>\n",
       "    </tr>\n",
       "    <tr>\n",
       "      <th>2</th>\n",
       "      <td>0.0</td>\n",
       "      <td>0.816923</td>\n",
       "      <td>0.142857</td>\n",
       "      <td>0.0</td>\n",
       "      <td>1.0</td>\n",
       "      <td>0.0</td>\n",
       "      <td>0.0</td>\n",
       "      <td>0.0</td>\n",
       "      <td>0.0</td>\n",
       "      <td>0.0</td>\n",
       "      <td>1.0</td>\n",
       "      <td>0.0</td>\n",
       "      <td>0.0</td>\n",
       "      <td>0.0</td>\n",
       "      <td>0.0</td>\n",
       "      <td>0.0</td>\n",
       "      <td>0.0</td>\n",
       "      <td>0.0</td>\n",
       "      <td>0.0</td>\n",
       "      <td>1.0</td>\n",
       "    </tr>\n",
       "    <tr>\n",
       "      <th>3</th>\n",
       "      <td>1.0</td>\n",
       "      <td>0.123846</td>\n",
       "      <td>0.000000</td>\n",
       "      <td>1.0</td>\n",
       "      <td>0.0</td>\n",
       "      <td>0.0</td>\n",
       "      <td>0.0</td>\n",
       "      <td>0.0</td>\n",
       "      <td>0.0</td>\n",
       "      <td>0.0</td>\n",
       "      <td>1.0</td>\n",
       "      <td>0.0</td>\n",
       "      <td>0.0</td>\n",
       "      <td>0.0</td>\n",
       "      <td>0.0</td>\n",
       "      <td>0.0</td>\n",
       "      <td>0.0</td>\n",
       "      <td>0.0</td>\n",
       "      <td>1.0</td>\n",
       "      <td>0.0</td>\n",
       "    </tr>\n",
       "    <tr>\n",
       "      <th>4</th>\n",
       "      <td>1.0</td>\n",
       "      <td>0.130128</td>\n",
       "      <td>0.000000</td>\n",
       "      <td>1.0</td>\n",
       "      <td>0.0</td>\n",
       "      <td>0.0</td>\n",
       "      <td>0.0</td>\n",
       "      <td>0.0</td>\n",
       "      <td>0.0</td>\n",
       "      <td>1.0</td>\n",
       "      <td>0.0</td>\n",
       "      <td>0.0</td>\n",
       "      <td>0.0</td>\n",
       "      <td>0.0</td>\n",
       "      <td>0.0</td>\n",
       "      <td>0.0</td>\n",
       "      <td>0.0</td>\n",
       "      <td>0.0</td>\n",
       "      <td>1.0</td>\n",
       "      <td>0.0</td>\n",
       "    </tr>\n",
       "    <tr>\n",
       "      <th>...</th>\n",
       "      <td>...</td>\n",
       "      <td>...</td>\n",
       "      <td>...</td>\n",
       "      <td>...</td>\n",
       "      <td>...</td>\n",
       "      <td>...</td>\n",
       "      <td>...</td>\n",
       "      <td>...</td>\n",
       "      <td>...</td>\n",
       "      <td>...</td>\n",
       "      <td>...</td>\n",
       "      <td>...</td>\n",
       "      <td>...</td>\n",
       "      <td>...</td>\n",
       "      <td>...</td>\n",
       "      <td>...</td>\n",
       "      <td>...</td>\n",
       "      <td>...</td>\n",
       "      <td>...</td>\n",
       "      <td>...</td>\n",
       "    </tr>\n",
       "    <tr>\n",
       "      <th>770</th>\n",
       "      <td>0.5</td>\n",
       "      <td>0.200000</td>\n",
       "      <td>0.000000</td>\n",
       "      <td>1.0</td>\n",
       "      <td>0.0</td>\n",
       "      <td>0.0</td>\n",
       "      <td>0.0</td>\n",
       "      <td>0.0</td>\n",
       "      <td>0.0</td>\n",
       "      <td>1.0</td>\n",
       "      <td>0.0</td>\n",
       "      <td>0.0</td>\n",
       "      <td>0.0</td>\n",
       "      <td>0.0</td>\n",
       "      <td>0.0</td>\n",
       "      <td>0.0</td>\n",
       "      <td>0.0</td>\n",
       "      <td>0.0</td>\n",
       "      <td>1.0</td>\n",
       "      <td>0.0</td>\n",
       "    </tr>\n",
       "    <tr>\n",
       "      <th>771</th>\n",
       "      <td>0.0</td>\n",
       "      <td>0.461538</td>\n",
       "      <td>0.000000</td>\n",
       "      <td>0.0</td>\n",
       "      <td>1.0</td>\n",
       "      <td>0.0</td>\n",
       "      <td>0.0</td>\n",
       "      <td>1.0</td>\n",
       "      <td>0.0</td>\n",
       "      <td>0.0</td>\n",
       "      <td>0.0</td>\n",
       "      <td>0.0</td>\n",
       "      <td>0.0</td>\n",
       "      <td>0.0</td>\n",
       "      <td>0.0</td>\n",
       "      <td>0.0</td>\n",
       "      <td>0.0</td>\n",
       "      <td>1.0</td>\n",
       "      <td>0.0</td>\n",
       "      <td>0.0</td>\n",
       "    </tr>\n",
       "    <tr>\n",
       "      <th>772</th>\n",
       "      <td>1.0</td>\n",
       "      <td>0.360769</td>\n",
       "      <td>0.428571</td>\n",
       "      <td>0.0</td>\n",
       "      <td>0.0</td>\n",
       "      <td>0.0</td>\n",
       "      <td>0.0</td>\n",
       "      <td>0.0</td>\n",
       "      <td>0.0</td>\n",
       "      <td>1.0</td>\n",
       "      <td>0.0</td>\n",
       "      <td>0.0</td>\n",
       "      <td>0.0</td>\n",
       "      <td>0.0</td>\n",
       "      <td>0.0</td>\n",
       "      <td>0.0</td>\n",
       "      <td>0.0</td>\n",
       "      <td>1.0</td>\n",
       "      <td>0.0</td>\n",
       "      <td>0.0</td>\n",
       "    </tr>\n",
       "    <tr>\n",
       "      <th>773</th>\n",
       "      <td>0.0</td>\n",
       "      <td>0.461538</td>\n",
       "      <td>0.000000</td>\n",
       "      <td>1.0</td>\n",
       "      <td>1.0</td>\n",
       "      <td>0.0</td>\n",
       "      <td>0.0</td>\n",
       "      <td>0.0</td>\n",
       "      <td>0.0</td>\n",
       "      <td>1.0</td>\n",
       "      <td>0.0</td>\n",
       "      <td>0.0</td>\n",
       "      <td>0.0</td>\n",
       "      <td>0.0</td>\n",
       "      <td>0.0</td>\n",
       "      <td>0.0</td>\n",
       "      <td>0.0</td>\n",
       "      <td>0.0</td>\n",
       "      <td>1.0</td>\n",
       "      <td>0.0</td>\n",
       "    </tr>\n",
       "    <tr>\n",
       "      <th>774</th>\n",
       "      <td>1.0</td>\n",
       "      <td>0.119231</td>\n",
       "      <td>0.000000</td>\n",
       "      <td>1.0</td>\n",
       "      <td>0.0</td>\n",
       "      <td>0.0</td>\n",
       "      <td>0.0</td>\n",
       "      <td>0.0</td>\n",
       "      <td>0.0</td>\n",
       "      <td>0.0</td>\n",
       "      <td>1.0</td>\n",
       "      <td>0.0</td>\n",
       "      <td>0.0</td>\n",
       "      <td>0.0</td>\n",
       "      <td>0.0</td>\n",
       "      <td>0.0</td>\n",
       "      <td>0.0</td>\n",
       "      <td>0.0</td>\n",
       "      <td>1.0</td>\n",
       "      <td>0.0</td>\n",
       "    </tr>\n",
       "  </tbody>\n",
       "</table>\n",
       "<p>775 rows × 20 columns</p>\n",
       "</div>"
      ],
      "text/plain": [
       "     Pclass      Fare  relative_size  Sex_male  Cabin_1  age_bins_15s  \\\n",
       "0       1.0  0.111538       0.142857       1.0      0.0           0.0   \n",
       "1       1.0  0.121923       0.000000       0.0      0.0           0.0   \n",
       "2       0.0  0.816923       0.142857       0.0      1.0           0.0   \n",
       "3       1.0  0.123846       0.000000       1.0      0.0           0.0   \n",
       "4       1.0  0.130128       0.000000       1.0      0.0           0.0   \n",
       "..      ...       ...            ...       ...      ...           ...   \n",
       "770     0.5  0.200000       0.000000       1.0      0.0           0.0   \n",
       "771     0.0  0.461538       0.000000       0.0      1.0           0.0   \n",
       "772     1.0  0.360769       0.428571       0.0      0.0           0.0   \n",
       "773     0.0  0.461538       0.000000       1.0      1.0           0.0   \n",
       "774     1.0  0.119231       0.000000       1.0      0.0           0.0   \n",
       "\n",
       "     age_bins_1s  age_bins_20s  age_bins_25s  age_bins_30s  age_bins_35s  \\\n",
       "0            0.0           0.0           1.0           0.0           0.0   \n",
       "1            0.0           0.0           0.0           1.0           0.0   \n",
       "2            0.0           0.0           0.0           0.0           1.0   \n",
       "3            0.0           0.0           0.0           0.0           1.0   \n",
       "4            0.0           0.0           0.0           1.0           0.0   \n",
       "..           ...           ...           ...           ...           ...   \n",
       "770          0.0           0.0           0.0           1.0           0.0   \n",
       "771          0.0           1.0           0.0           0.0           0.0   \n",
       "772          0.0           0.0           0.0           1.0           0.0   \n",
       "773          0.0           0.0           0.0           1.0           0.0   \n",
       "774          0.0           0.0           0.0           0.0           1.0   \n",
       "\n",
       "     age_bins_40s  age_bins_45s  age_bins_50s  age_bins_55s  age_bins_5s  \\\n",
       "0             0.0           0.0           0.0           0.0          0.0   \n",
       "1             0.0           0.0           0.0           0.0          0.0   \n",
       "2             0.0           0.0           0.0           0.0          0.0   \n",
       "3             0.0           0.0           0.0           0.0          0.0   \n",
       "4             0.0           0.0           0.0           0.0          0.0   \n",
       "..            ...           ...           ...           ...          ...   \n",
       "770           0.0           0.0           0.0           0.0          0.0   \n",
       "771           0.0           0.0           0.0           0.0          0.0   \n",
       "772           0.0           0.0           0.0           0.0          0.0   \n",
       "773           0.0           0.0           0.0           0.0          0.0   \n",
       "774           0.0           0.0           0.0           0.0          0.0   \n",
       "\n",
       "     age_bins_60s  Title_Miss  Title_Mr  Title_Mrs  \n",
       "0             0.0         0.0       1.0        0.0  \n",
       "1             0.0         1.0       0.0        0.0  \n",
       "2             0.0         0.0       0.0        1.0  \n",
       "3             0.0         0.0       1.0        0.0  \n",
       "4             0.0         0.0       1.0        0.0  \n",
       "..            ...         ...       ...        ...  \n",
       "770           0.0         0.0       1.0        0.0  \n",
       "771           0.0         1.0       0.0        0.0  \n",
       "772           0.0         1.0       0.0        0.0  \n",
       "773           0.0         0.0       1.0        0.0  \n",
       "774           0.0         0.0       1.0        0.0  \n",
       "\n",
       "[775 rows x 20 columns]"
      ]
     },
     "execution_count": 34,
     "metadata": {},
     "output_type": "execute_result"
    }
   ],
   "source": [
    "sex = [col for col in train.columns if 'Sex' in col]\n",
    "cabin = [col for col in train.columns if 'Cabin' in col]\n",
    "age_bins = [col for col in train.columns if 'age_bins' in col]\n",
    "title = [col for col in train.columns if 'Title' in col]\n",
    "\n",
    "features = ['Pclass', 'Fare', 'relative_size'] + sex + cabin + age_bins + title\n",
    "train[features]"
   ]
  },
  {
   "cell_type": "markdown",
   "id": "e3e06810",
   "metadata": {},
   "source": [
    "## Let's break our dataset into Train and Test"
   ]
  },
  {
   "cell_type": "code",
   "execution_count": 47,
   "id": "4c8f67d6",
   "metadata": {},
   "outputs": [],
   "source": [
    "from sklearn.model_selection import train_test_split\n",
    "from sklearn import linear_model\n",
    "from sklearn import metrics\n",
    "from sklearn.linear_model import LinearRegression\n",
    "from sklearn import neighbors\n",
    "from sklearn.neighbors import KNeighborsRegressor\n",
    "from sklearn.naive_bayes import GaussianNB\n",
    "from sklearn.model_selection import train_test_split \n",
    "from sklearn.metrics import accuracy_score\n",
    "from sklearn import svm\n",
    "from sklearn.svm import SVC\n",
    "\n",
    "\n",
    "X = train[features]\n",
    "y = train['Survived']\n",
    "\n",
    "X_train, X_test, y_train, y_test = train_test_split(X, y, test_size=0.2, random_state=1)"
   ]
  },
  {
   "cell_type": "markdown",
   "id": "c888ab1b",
   "metadata": {},
   "source": [
    "## Logistic Regression"
   ]
  },
  {
   "cell_type": "code",
   "execution_count": 48,
   "id": "d35d8b6a",
   "metadata": {},
   "outputs": [
    {
     "name": "stdout",
     "output_type": "stream",
     "text": [
      "Mean Absolute Error: 0.2689\n",
      "Mean Squared Error: 0.1294\n",
      "Root Mean Squared Error: 0.3597\n",
      "R-squared Error: 0.425\n",
      "Accuracy: 42.499%\n"
     ]
    }
   ],
   "source": [
    "lr = LinearRegression()\n",
    "lr.fit(X_train, y_train)\n",
    "y_pred_lr_1 = lr.predict(X_test)\n",
    "\n",
    "from sklearn import metrics\n",
    "print('Mean Absolute Error:', round(metrics.mean_absolute_error(y_test, y_pred_lr_1),4))  \n",
    "print('Mean Squared Error:', round(metrics.mean_squared_error(y_test, y_pred_lr_1),4))  \n",
    "print('Root Mean Squared Error:', round(np.sqrt(metrics.mean_squared_error(y_test, y_pred_lr_1)),4))\n",
    "print('R-squared Error:', round(metrics.r2_score(y_test, y_pred_lr_1), 4))\n",
    "print('Accuracy:', str(format(metrics.r2_score(y_test, y_pred_lr_1)*100, '.3f')) + '%')"
   ]
  },
  {
   "cell_type": "markdown",
   "id": "6ee2faa9",
   "metadata": {},
   "source": [
    "## KNN"
   ]
  },
  {
   "cell_type": "code",
   "execution_count": 49,
   "id": "b5e9c521",
   "metadata": {},
   "outputs": [
    {
     "name": "stdout",
     "output_type": "stream",
     "text": [
      "Mean Absolute Error: 0.2\n",
      "Mean Squared Error: 0.2\n",
      "Root Mean Squared Error: 0.4472\n",
      "R-squared Error: 0.1112\n",
      "Accuracy: 80.000%\n"
     ]
    }
   ],
   "source": [
    "knn = neighbors.KNeighborsClassifier(n_neighbors = 9, weights = 'distance', algorithm = 'kd_tree', p = 1)\n",
    "knn.fit(X_train, y_train)\n",
    "y_pred = knn.predict(X_test)\n",
    "\n",
    "from sklearn import metrics\n",
    "print('Mean Absolute Error:', round(metrics.mean_absolute_error(y_test, y_pred),4))  \n",
    "print('Mean Squared Error:', round(metrics.mean_squared_error(y_test, y_pred),4))  \n",
    "print('Root Mean Squared Error:', round(np.sqrt(metrics.mean_squared_error(y_test, y_pred)),4))\n",
    "print('R-squared Error:', round(metrics.r2_score(y_test, y_pred), 4))\n",
    "print('Accuracy:', str(format(knn.score(X_test, y_test)*100, '.3f')) + '%')\n"
   ]
  },
  {
   "cell_type": "markdown",
   "id": "7222d437",
   "metadata": {},
   "source": [
    "## Navies Bayes"
   ]
  },
  {
   "cell_type": "code",
   "execution_count": 50,
   "id": "61b7afc6",
   "metadata": {},
   "outputs": [
    {
     "name": "stdout",
     "output_type": "stream",
     "text": [
      "Mean Absolute Error: 0.2387\n",
      "Mean Squared Error: 0.2387\n",
      "Root Mean Squared Error: 0.4886\n",
      "R-squared Error: -0.0609\n",
      "Accuracy: 76.129%\n"
     ]
    }
   ],
   "source": [
    "model = GaussianNB()                       \n",
    "model.fit(X_train, y_train)\n",
    "y_model = model.predict(X_test)\n",
    "\n",
    "from sklearn import metrics\n",
    "print('Mean Absolute Error:', round(metrics.mean_absolute_error(y_test, y_model),4))  \n",
    "print('Mean Squared Error:', round(metrics.mean_squared_error(y_test, y_model),4))  \n",
    "print('Root Mean Squared Error:', round(np.sqrt(metrics.mean_squared_error(y_test, y_model)),4))\n",
    "print('R-squared Error:', round(metrics.r2_score(y_test, y_model), 4))\n",
    "print('Accuracy:', str(format(accuracy_score(y_test,y_model)*100, '.3f')) + '%')"
   ]
  },
  {
   "cell_type": "markdown",
   "id": "03cbdcf6",
   "metadata": {},
   "source": [
    "## SVM"
   ]
  },
  {
   "cell_type": "code",
   "execution_count": 51,
   "id": "5263f92b",
   "metadata": {},
   "outputs": [
    {
     "name": "stdout",
     "output_type": "stream",
     "text": [
      "Mean Absolute Error: 0.1677\n",
      "Mean Squared Error: 0.1677\n",
      "Root Mean Squared Error: 0.4096\n",
      "R-squared Error: 0.2545\n",
      "Accuracy: 25.453%\n"
     ]
    }
   ],
   "source": [
    "clf = svm.SVC(kernel='linear')\n",
    "clf.fit(X_train, y_train)\n",
    "y_pred = clf.predict(X_test)\n",
    "\n",
    "from sklearn import metrics\n",
    "print('Mean Absolute Error:', round(metrics.mean_absolute_error(y_test, y_pred),4))  \n",
    "print('Mean Squared Error:', round(metrics.mean_squared_error(y_test, y_pred),4))  \n",
    "print('Root Mean Squared Error:', round(np.sqrt(metrics.mean_squared_error(y_test, y_pred)),4))\n",
    "print('R-squared Error:', round(metrics.r2_score(y_test, y_pred), 4))\n",
    "print('Accuracy:', str(format(metrics.r2_score(y_test, y_pred)*100, '.3f')) + '%')"
   ]
  },
  {
   "cell_type": "code",
   "execution_count": 52,
   "id": "28ae011a",
   "metadata": {},
   "outputs": [
    {
     "name": "stdout",
     "output_type": "stream",
     "text": [
      "Mean Absolute Error: 0.1806\n",
      "Mean Squared Error: 0.1806\n",
      "Root Mean Squared Error: 0.425\n",
      "R-squared Error: 0.1972\n",
      "Accuracy: 19.719%\n"
     ]
    }
   ],
   "source": [
    "clf = svm.SVC(kernel='poly')\n",
    "clf.fit(X_train, y_train)\n",
    "y_pred = clf.predict(X_test)\n",
    "\n",
    "from sklearn import metrics\n",
    "print('Mean Absolute Error:', round(metrics.mean_absolute_error(y_test, y_pred),4))  \n",
    "print('Mean Squared Error:', round(metrics.mean_squared_error(y_test, y_pred),4))  \n",
    "print('Root Mean Squared Error:', round(np.sqrt(metrics.mean_squared_error(y_test, y_pred)),4))\n",
    "print('R-squared Error:', round(metrics.r2_score(y_test, y_pred), 4))\n",
    "print('Accuracy:', str(format(metrics.r2_score(y_test, y_pred)*100, '.3f')) + '%')"
   ]
  },
  {
   "cell_type": "markdown",
   "id": "66ab8141",
   "metadata": {},
   "source": [
    "## Comparing all the models"
   ]
  },
  {
   "cell_type": "code",
   "execution_count": 41,
   "id": "75cae694",
   "metadata": {},
   "outputs": [],
   "source": [
    "res = {'LR':{'MAE':round(metrics.mean_absolute_error(y_test, y_pred_lr_1),4),\n",
    "                   'MSE':round(metrics.mean_squared_error(y_test, y_pred_lr_1),4),\n",
    "                   'RMSE':round(np.sqrt(metrics.mean_squared_error(y_test, y_pred_lr_1)),4),\n",
    "                   'R2':round(metrics.r2_score(y_test, y_pred_lr_1), 4)},\n",
    "             'KNN':{'MAE':round(metrics.mean_absolute_error(y_test, y_pred),4),\n",
    "                   'MSE':round(metrics.mean_squared_error(y_test, y_pred),4),\n",
    "                   'RMSE':round(np.sqrt(metrics.mean_squared_error(y_test, y_pred)),4),\n",
    "                   'R2':round(metrics.r2_score(y_test, y_pred), 4)},\n",
    "             'Naives Bayes':{'MAE':round(metrics.mean_absolute_error(y_test, y_model),4),\n",
    "                   'MSE':round(metrics.mean_squared_error(y_test, y_model),4),\n",
    "                   'RMSE':round(np.sqrt(metrics.mean_squared_error(y_test, y_model)),4),\n",
    "                   'R2':round(metrics.r2_score(y_test, y_model), 4)},\n",
    "             'SVM':{'MAE':round(metrics.mean_absolute_error(y_test, y_pred),4),\n",
    "                   'MSE':round(metrics.mean_squared_error(y_test, y_pred),4),\n",
    "                   'RMSE':round(np.sqrt(metrics.mean_squared_error(y_test, y_pred)),4),\n",
    "                   'R2':round(metrics.r2_score(y_test, y_pred), 4)}\n",
    "      }"
   ]
  },
  {
   "cell_type": "code",
   "execution_count": 42,
   "id": "fcfe63ba",
   "metadata": {},
   "outputs": [
    {
     "data": {
      "image/png": "[encoded data removed]",
      "text/plain": [
       "<Figure size 432x288 with 1 Axes>"
      ]
     },
     "metadata": {},
     "output_type": "display_data"
    },
    {
     "data": {
      "image/png": "[encoded data removed]",
      "text/plain": [
       "<Figure size 432x288 with 1 Axes>"
      ]
     },
     "metadata": {},
     "output_type": "display_data"
    },
    {
     "data": {
      "image/png": "[encoded data removed]",
      "text/plain": [
       "<Figure size 432x288 with 1 Axes>"
      ]
     },
     "metadata": {},
     "output_type": "display_data"
    },
    {
     "data": {
      "image/png": "[encoded data removed]",
      "text/plain": [
       "<Figure size 432x288 with 1 Axes>"
      ]
     },
     "metadata": {},
     "output_type": "display_data"
    }
   ],
   "source": [
    "for metric in ['MAE', 'MSE', 'RMSE', 'R2']:\n",
    "    objects = ('Linear Regression', 'KNN', 'Naives Bayes', 'SVM')\n",
    "    y_pos = np.arange(len(objects))\n",
    "    performance = [res['LR'][metric], \n",
    "                   res['KNN'][metric],\n",
    "                   res['Naives Bayes'][metric],\n",
    "                   res['SVM'][metric]]\n",
    "\n",
    "    plt.barh(y_pos, performance, align='center', alpha=0.5)\n",
    "    plt.yticks(y_pos, objects)\n",
    "    plt.xlabel(metric)\n",
    "    plt.title(metric)\n",
    "\n",
    "    plt.show()"
   ]
  },
  {
   "cell_type": "code",
   "execution_count": 45,
   "id": "c7c9554b",
   "metadata": {},
   "outputs": [
    {
     "data": {
      "image/png": "[encoded data removed]",
      "text/plain": [
       "<Figure size 432x288 with 1 Axes>"
      ]
     },
     "metadata": {},
     "output_type": "display_data"
    }
   ],
   "source": [
    "model = ['Linear Regression', 'KNN', 'Naive Bayes', 'SVM']\n",
    "acc = [42.499, 80.000, 76.129, 25.453]\n",
    "\n",
    "plt.bar(model, acc)\n",
    "plt.title('Supervised Learning Models')\n",
    "plt.xlabel('Models')\n",
    "plt.ylabel('Accuracy')\n",
    "plt.show()"
   ]
  },
  {
   "cell_type": "code",
   "execution_count": null,
   "id": "a5fb6d95",
   "metadata": {},
   "outputs": [],
   "source": []
  }
 ],
 "metadata": {
  "kernelspec": {
   "display_name": "Python 3",
   "language": "python",
   "name": "python3"
  },
  "language_info": {
   "codemirror_mode": {
    "name": "ipython",
    "version": 3
   },
   "file_extension": ".py",
   "mimetype": "text/x-python",
   "name": "python",
   "nbconvert_exporter": "python",
   "pygments_lexer": "ipython3",
   "version": "3.7.9"
  }
 },
 "nbformat": 4,
 "nbformat_minor": 5
}
